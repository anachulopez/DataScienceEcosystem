{
 "cells": [
  {
   "cell_type": "markdown",
   "id": "a066d1c1-89d0-404c-a639-339917f14077",
   "metadata": {},
   "source": [
    "# Data Science Tools and Ecosystem"
   ]
  },
  {
   "cell_type": "markdown",
   "id": "d47845ea-f70f-41b1-a27d-c9e5622beadb",
   "metadata": {},
   "source": [
    "In this notebook, Data Science Tools and Ecosystem are summarized."
   ]
  },
  {
   "cell_type": "markdown",
   "id": "ffcb7658-59b5-4139-8604-8e0beb223ab0",
   "metadata": {},
   "source": [
    "**Objectives:**\n",
    "* List data science languages\n",
    "* List data science libraries\n",
    "* Create a table of data science tools\n",
    "* Introduce arithmetic expressions in Python\n",
    "* Multiply and add numbers + convert minutes into hours"
   ]
  },
  {
   "cell_type": "markdown",
   "id": "c6bbbfba-4988-4d44-a1f0-f319e775c9d8",
   "metadata": {},
   "source": [
    "Some of the popular languages that Data Scientists use are:\n",
    "1. Pyhton\n",
    "2. R\n",
    "3. SQL\n",
    "4. Julia\n",
    "5. Java\n",
    "6. Scala\n",
    "7. C/C++"
   ]
  },
  {
   "cell_type": "markdown",
   "id": "d3b72b42-268a-4e69-9b90-3e361ebdae05",
   "metadata": {},
   "source": [
    "Some of the commonly used libraries used by Data Scientists include:\n",
    "1. Data Manipulation and Analysis:\n",
    "   1. NumPy\n",
    "   2. Pandas\n",
    "   3. Dask\n",
    "   4. Vaex\n",
    "2. Data Visualization:\n",
    "   1. Matplotlib\n",
    "   2. Seaborn\n",
    "   3. Plotly\n",
    "   4. Bokeh\n",
    "3. Machine Learning:\n",
    "   1. Scikit-learn\n",
    "   2. TensorFlow\n",
    "   3. PyTorch\n",
    "   4. Keras\n",
    "   5. XGBoost\n",
    "   6. LightGBM\n",
    "4. Natural Language Processing:\n",
    "   1. NLTK\n",
    "   2. spaCy\n",
    "   3. Hugging Face Transformers"
   ]
  },
  {
   "cell_type": "markdown",
   "id": "b7742804-1af6-4583-a3ea-e33cade8523e",
   "metadata": {},
   "source": [
    "| Data Science Tools |\n",
    "| ------------------ |\n",
    "|  Jupyter Notebook  |\n",
    "|       RStudio      |\n",
    "|       VS Code      |"
   ]
  },
  {
   "cell_type": "markdown",
   "id": "e21ee0ab-7a4b-4a08-96ab-50dfec486bbb",
   "metadata": {},
   "source": [
    "### Below are a few examples of evaluating arithmetic expressions in Pyhton"
   ]
  },
  {
   "cell_type": "code",
   "execution_count": 4,
   "id": "7a1af067-2381-4528-888f-804383a9b8b5",
   "metadata": {},
   "outputs": [
    {
     "name": "stdout",
     "output_type": "stream",
     "text": [
      "17\n"
     ]
    }
   ],
   "source": [
    "# This is a simple arithmetic expression to multiply then add integers\n",
    "result = (3*4)+5\n",
    "print(result)"
   ]
  },
  {
   "cell_type": "code",
   "execution_count": 6,
   "id": "3c64488d-4086-4094-bc90-1c4801624db3",
   "metadata": {},
   "outputs": [
    {
     "name": "stdout",
     "output_type": "stream",
     "text": [
      "3.3333333333333335\n"
     ]
    }
   ],
   "source": [
    "# This will convert 200 minutes to hours by dividing by 60\n",
    "result = (200/60)\n",
    "print(result)"
   ]
  },
  {
   "cell_type": "markdown",
   "id": "1c013a6b-ff97-404d-9fb2-1557fb24e903",
   "metadata": {},
   "source": [
    "## Author\n",
    "Ana Chuan López"
   ]
  }
 ],
 "metadata": {
  "kernelspec": {
   "display_name": "Python 3 (ipykernel)",
   "language": "python",
   "name": "python3"
  },
  "language_info": {
   "codemirror_mode": {
    "name": "ipython",
    "version": 3
   },
   "file_extension": ".py",
   "mimetype": "text/x-python",
   "name": "python",
   "nbconvert_exporter": "python",
   "pygments_lexer": "ipython3",
   "version": "3.12.5"
  }
 },
 "nbformat": 4,
 "nbformat_minor": 5
}
